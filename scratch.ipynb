{
 "cells": [
  {
   "metadata": {
    "ExecuteTime": {
     "end_time": "2025-05-05T10:56:04.104127Z",
     "start_time": "2025-05-05T10:56:04.100340Z"
    }
   },
   "cell_type": "code",
   "source": [
    "from deltalake import DeltaTable\n",
    "from dotenv import load_dotenv\n",
    "\n",
    "load_dotenv()\n",
    "\n",
    "import duckdb\n",
    "import polars as pl\n",
    "import polars_st as st\n",
    "import deltalake as dl\n",
    "from src.settings import settings"
   ],
   "id": "83dc5f9ee3353de3",
   "outputs": [],
   "execution_count": 2
  },
  {
   "metadata": {
    "ExecuteTime": {
     "end_time": "2025-05-05T09:55:48.106390Z",
     "start_time": "2025-05-05T09:55:47.998457Z"
    }
   },
   "cell_type": "code",
   "source": [
    "%load_ext sql\n",
    "conn = duckdb.connect(settings.DUCKDB_DATABASE)\n",
    "conn.sql(\"SET search_path TO ae_de_play;\")\n",
    "conn.install_extension('spatial')\n",
    "conn.load_extension('spatial')"
   ],
   "id": "bc7f3e9c137bf3b4",
   "outputs": [
    {
     "name": "stdout",
     "output_type": "stream",
     "text": [
      "The sql extension is already loaded. To reload it, use:\n",
      "  %reload_ext sql\n"
     ]
    }
   ],
   "execution_count": 86
  },
  {
   "metadata": {
    "ExecuteTime": {
     "end_time": "2025-05-05T09:18:48.096970Z",
     "start_time": "2025-05-05T09:18:48.085109Z"
    }
   },
   "cell_type": "code",
   "source": [
    "df = (\n",
    "    conn.sql('''\n",
    "SELECT\n",
    "    *,\n",
    "    ST_AsText(geometry)::TEXT AS geometry_wkt\n",
    "FROM nasa_firms__viirs\n",
    "    ''')\n",
    "    .pl()\n",
    "    .drop('geometry')\n",
    "    .rename({'geometry_wkt': 'geometry'})\n",
    "    .with_columns(geometry=st.from_wkt('geometry'))\n",
    ")\n",
    "df"
   ],
   "id": "3ed11c4959279e1a",
   "outputs": [
    {
     "data": {
      "text/plain": [
       "shape: (2_351, 14)\n",
       "┌─────────────┬────────────┬────────────┬────────────┬───┬─────────┬───────┬──────────┬────────────┐\n",
       "│ id          ┆ country_id ┆ timestamp  ┆ bright_ti4 ┆ … ┆ version ┆ frp   ┆ daynight ┆ geometry   │\n",
       "│ ---         ┆ ---        ┆ ---        ┆ ---        ┆   ┆ ---     ┆ ---   ┆ ---      ┆ ---        │\n",
       "│ str         ┆ str        ┆ datetime[μ ┆ f32        ┆   ┆ str     ┆ f32   ┆ str      ┆ str        │\n",
       "│             ┆            ┆ s]         ┆            ┆   ┆         ┆       ┆          ┆            │\n",
       "╞═════════════╪════════════╪════════════╪════════════╪═══╪═════════╪═══════╪══════════╪════════════╡\n",
       "│ 555a6d97acc ┆ PHL        ┆ 2025-04-26 ┆ 325.910004 ┆ … ┆ 2.0NRT  ┆ 1.53  ┆ D        ┆ POINT      │\n",
       "│ db2ffba1b0e ┆            ┆ 04:34:00   ┆            ┆   ┆         ┆       ┆          ┆ (11.6582   │\n",
       "│ e39bd46b…   ┆            ┆            ┆            ┆   ┆         ┆       ┆          ┆ 124.863487 │\n",
       "│             ┆            ┆            ┆            ┆   ┆         ┆       ┆          ┆ )          │\n",
       "│ 720ce23fe27 ┆ PHL        ┆ 2025-04-26 ┆ 335.25     ┆ … ┆ 2.0NRT  ┆ 15.27 ┆ D        ┆ POINT      │\n",
       "│ d98bc081757 ┆            ┆ 04:34:00   ┆            ┆   ┆         ┆       ┆          ┆ (12.32431  │\n",
       "│ fd422b6d…   ┆            ┆            ┆            ┆   ┆         ┆       ┆          ┆ 121.280579 │\n",
       "│             ┆            ┆            ┆            ┆   ┆         ┆       ┆          ┆ )          │\n",
       "│ 5585195cd8c ┆ PHL        ┆ 2025-04-26 ┆ 329.519989 ┆ … ┆ 2.0NRT  ┆ 6.72  ┆ D        ┆ POINT      │\n",
       "│ 0b8c97a219d ┆            ┆ 04:34:00   ┆            ┆   ┆         ┆       ┆          ┆ (12.4398   │\n",
       "│ 36c6ec6b…   ┆            ┆            ┆            ┆   ┆         ┆       ┆          ┆ 121.228958 │\n",
       "│             ┆            ┆            ┆            ┆   ┆         ┆       ┆          ┆ )          │\n",
       "│ 68f9ddc96b1 ┆ PHL        ┆ 2025-04-26 ┆ 367.0      ┆ … ┆ 2.0NRT  ┆ 9.94  ┆ D        ┆ POINT      │\n",
       "│ 38b0a344e18 ┆            ┆ 04:34:00   ┆            ┆   ┆         ┆       ┆          ┆ (12.86857  │\n",
       "│ ed91fc80…   ┆            ┆            ┆            ┆   ┆         ┆       ┆          ┆ 121.113869 │\n",
       "│             ┆            ┆            ┆            ┆   ┆         ┆       ┆          ┆ )          │\n",
       "│ 808b7d95cb9 ┆ PHL        ┆ 2025-04-26 ┆ 341.640015 ┆ … ┆ 2.0NRT  ┆ 5.47  ┆ D        ┆ POINT      │\n",
       "│ d5fc6d84bd6 ┆            ┆ 04:34:00   ┆            ┆   ┆         ┆       ┆          ┆ (13.13155  │\n",
       "│ 533a2bfb…   ┆            ┆            ┆            ┆   ┆         ┆       ┆          ┆ 120.848824 │\n",
       "│             ┆            ┆            ┆            ┆   ┆         ┆       ┆          ┆ )          │\n",
       "│ …           ┆ …          ┆ …          ┆ …          ┆ … ┆ …       ┆ …     ┆ …        ┆ …          │\n",
       "│ bb5f6660e85 ┆ THA        ┆ 2025-04-26 ┆ 302.339996 ┆ … ┆ 2.0NRT  ┆ 1.11  ┆ N        ┆ POINT      │\n",
       "│ ae1657da1e3 ┆            ┆ 07:13:00   ┆            ┆   ┆         ┆       ┆          ┆ (19.48638  │\n",
       "│ 4aab1a44…   ┆            ┆            ┆            ┆   ┆         ┆       ┆          ┆ 99.434288) │\n",
       "│ 20b4ef11e87 ┆ THA        ┆ 2025-04-26 ┆ 305.209991 ┆ … ┆ 2.0NRT  ┆ 1.47  ┆ N        ┆ POINT      │\n",
       "│ eba26f429e7 ┆            ┆ 07:13:00   ┆            ┆   ┆         ┆       ┆          ┆ (19.506889 │\n",
       "│ 1e61ccc7…   ┆            ┆            ┆            ┆   ┆         ┆       ┆          ┆ 98.149178) │\n",
       "│ 7d89dd401c2 ┆ THA        ┆ 2025-04-26 ┆ 306.390015 ┆ … ┆ 2.0NRT  ┆ 1.31  ┆ N        ┆ POINT      │\n",
       "│ 00cdee3afd0 ┆            ┆ 07:13:00   ┆            ┆   ┆         ┆       ┆          ┆ (19.513821 │\n",
       "│ 2355df92…   ┆            ┆            ┆            ┆   ┆         ┆       ┆          ┆ 98.046097) │\n",
       "│ 98bea3b65bb ┆ THA        ┆ 2025-04-26 ┆ 307.450012 ┆ … ┆ 2.0NRT  ┆ 1.58  ┆ N        ┆ POINT      │\n",
       "│ 6e829be280a ┆            ┆ 07:13:00   ┆            ┆   ┆         ┆       ┆          ┆ (19.57144  │\n",
       "│ 1d836307…   ┆            ┆            ┆            ┆   ┆         ┆       ┆          ┆ 98.161003) │\n",
       "│ 50812815e12 ┆ THA        ┆ 2025-04-26 ┆ 300.359985 ┆ … ┆ 2.0NRT  ┆ 1.06  ┆ N        ┆ POINT      │\n",
       "│ 165b8f07539 ┆            ┆ 07:13:00   ┆            ┆   ┆         ┆       ┆          ┆ (19.74441  │\n",
       "│ 35e3c6b7…   ┆            ┆            ┆            ┆   ┆         ┆       ┆          ┆ 100.329308 │\n",
       "│             ┆            ┆            ┆            ┆   ┆         ┆       ┆          ┆ )          │\n",
       "└─────────────┴────────────┴────────────┴────────────┴───┴─────────┴───────┴──────────┴────────────┘"
      ],
      "text/html": [
       "<div><style>\n",
       ".dataframe > thead > tr,\n",
       ".dataframe > tbody > tr {\n",
       "  text-align: right;\n",
       "  white-space: pre-wrap;\n",
       "}\n",
       "</style>\n",
       "<small>shape: (2_351, 14)</small><table border=\"1\" class=\"dataframe\"><thead><tr><th>id</th><th>country_id</th><th>timestamp</th><th>bright_ti4</th><th>bright_ti5</th><th>scan</th><th>track</th><th>satellite</th><th>instrument</th><th>confidence</th><th>version</th><th>frp</th><th>daynight</th><th>geometry</th></tr><tr><td>str</td><td>str</td><td>datetime[μs]</td><td>f32</td><td>f32</td><td>f32</td><td>f32</td><td>str</td><td>str</td><td>str</td><td>str</td><td>f32</td><td>str</td><td>str</td></tr></thead><tbody><tr><td>&quot;555a6d97accdb2ffba1b0ee39bd46b…</td><td>&quot;PHL&quot;</td><td>2025-04-26 04:34:00</td><td>325.910004</td><td>287.559998</td><td>0.46</td><td>0.47</td><td>&quot;N21&quot;</td><td>&quot;VIIRS&quot;</td><td>&quot;n&quot;</td><td>&quot;2.0NRT&quot;</td><td>1.53</td><td>&quot;D&quot;</td><td>&quot;POINT (11.6582 124.863487)&quot;</td></tr><tr><td>&quot;720ce23fe27d98bc081757fd422b6d…</td><td>&quot;PHL&quot;</td><td>2025-04-26 04:34:00</td><td>335.25</td><td>297.809998</td><td>0.39</td><td>0.59</td><td>&quot;N21&quot;</td><td>&quot;VIIRS&quot;</td><td>&quot;n&quot;</td><td>&quot;2.0NRT&quot;</td><td>15.27</td><td>&quot;D&quot;</td><td>&quot;POINT (12.32431 121.280579)&quot;</td></tr><tr><td>&quot;5585195cd8c0b8c97a219d36c6ec6b…</td><td>&quot;PHL&quot;</td><td>2025-04-26 04:34:00</td><td>329.519989</td><td>298.619995</td><td>0.39</td><td>0.6</td><td>&quot;N21&quot;</td><td>&quot;VIIRS&quot;</td><td>&quot;n&quot;</td><td>&quot;2.0NRT&quot;</td><td>6.72</td><td>&quot;D&quot;</td><td>&quot;POINT (12.4398 121.228958)&quot;</td></tr><tr><td>&quot;68f9ddc96b138b0a344e18ed91fc80…</td><td>&quot;PHL&quot;</td><td>2025-04-26 04:34:00</td><td>367.0</td><td>300.859985</td><td>0.39</td><td>0.6</td><td>&quot;N21&quot;</td><td>&quot;VIIRS&quot;</td><td>&quot;h&quot;</td><td>&quot;2.0NRT&quot;</td><td>9.94</td><td>&quot;D&quot;</td><td>&quot;POINT (12.86857 121.113869)&quot;</td></tr><tr><td>&quot;808b7d95cb9d5fc6d84bd6533a2bfb…</td><td>&quot;PHL&quot;</td><td>2025-04-26 04:34:00</td><td>341.640015</td><td>301.339996</td><td>0.4</td><td>0.6</td><td>&quot;N21&quot;</td><td>&quot;VIIRS&quot;</td><td>&quot;n&quot;</td><td>&quot;2.0NRT&quot;</td><td>5.47</td><td>&quot;D&quot;</td><td>&quot;POINT (13.13155 120.848824)&quot;</td></tr><tr><td>&hellip;</td><td>&hellip;</td><td>&hellip;</td><td>&hellip;</td><td>&hellip;</td><td>&hellip;</td><td>&hellip;</td><td>&hellip;</td><td>&hellip;</td><td>&hellip;</td><td>&hellip;</td><td>&hellip;</td><td>&hellip;</td><td>&hellip;</td></tr><tr><td>&quot;bb5f6660e85ae1657da1e34aab1a44…</td><td>&quot;THA&quot;</td><td>2025-04-26 07:13:00</td><td>302.339996</td><td>286.829987</td><td>0.47</td><td>0.39</td><td>&quot;N&quot;</td><td>&quot;VIIRS&quot;</td><td>&quot;n&quot;</td><td>&quot;2.0NRT&quot;</td><td>1.11</td><td>&quot;N&quot;</td><td>&quot;POINT (19.48638 99.434288)&quot;</td></tr><tr><td>&quot;20b4ef11e87eba26f429e71e61ccc7…</td><td>&quot;THA&quot;</td><td>2025-04-26 07:13:00</td><td>305.209991</td><td>291.359985</td><td>0.42</td><td>0.37</td><td>&quot;N&quot;</td><td>&quot;VIIRS&quot;</td><td>&quot;n&quot;</td><td>&quot;2.0NRT&quot;</td><td>1.47</td><td>&quot;N&quot;</td><td>&quot;POINT (19.506889 98.149178)&quot;</td></tr><tr><td>&quot;7d89dd401c200cdee3afd02355df92…</td><td>&quot;THA&quot;</td><td>2025-04-26 07:13:00</td><td>306.390015</td><td>292.779999</td><td>0.41</td><td>0.37</td><td>&quot;N&quot;</td><td>&quot;VIIRS&quot;</td><td>&quot;n&quot;</td><td>&quot;2.0NRT&quot;</td><td>1.31</td><td>&quot;N&quot;</td><td>&quot;POINT (19.513821 98.046097)&quot;</td></tr><tr><td>&quot;98bea3b65bb6e829be280a1d836307…</td><td>&quot;THA&quot;</td><td>2025-04-26 07:13:00</td><td>307.450012</td><td>291.5</td><td>0.41</td><td>0.37</td><td>&quot;N&quot;</td><td>&quot;VIIRS&quot;</td><td>&quot;n&quot;</td><td>&quot;2.0NRT&quot;</td><td>1.58</td><td>&quot;N&quot;</td><td>&quot;POINT (19.57144 98.161003)&quot;</td></tr><tr><td>&quot;50812815e12165b8f0753935e3c6b7…</td><td>&quot;THA&quot;</td><td>2025-04-26 07:13:00</td><td>300.359985</td><td>277.100006</td><td>0.51</td><td>0.41</td><td>&quot;N&quot;</td><td>&quot;VIIRS&quot;</td><td>&quot;n&quot;</td><td>&quot;2.0NRT&quot;</td><td>1.06</td><td>&quot;N&quot;</td><td>&quot;POINT (19.74441 100.329308)&quot;</td></tr></tbody></table></div>"
      ]
     },
     "execution_count": 37,
     "metadata": {},
     "output_type": "execute_result"
    }
   ],
   "execution_count": 37
  },
  {
   "metadata": {
    "ExecuteTime": {
     "end_time": "2025-05-05T09:34:09.393271Z",
     "start_time": "2025-05-05T09:34:09.385141Z"
    }
   },
   "cell_type": "code",
   "source": [
    "dl.write_deltalake(\n",
    "    settings.BASE_DIR / 'data/lake/nasa_firms__viirs',\n",
    "    df.limit(0),\n",
    "    mode='error',\n",
    "    writer_properties=dl.WriterProperties(compression='SNAPPY'),\n",
    "    configuration={\n",
    "        'delta.enableChangeDataFeed': 'true',\n",
    "        'delta.logRetentionDuration': 'interval 1000000000 weeks',\n",
    "    },\n",
    ")"
   ],
   "id": "71ba30e7a079166e",
   "outputs": [],
   "execution_count": 67
  },
  {
   "metadata": {
    "ExecuteTime": {
     "end_time": "2025-05-05T09:34:43.774645Z",
     "start_time": "2025-05-05T09:34:43.768833Z"
    }
   },
   "cell_type": "code",
   "source": [
    "dt = dl.DeltaTable(settings.BASE_DIR / 'data/lake/nasa_firms__viirs')\n",
    "dt.metadata().configuration"
   ],
   "id": "2d307850d21d947e",
   "outputs": [
    {
     "data": {
      "text/plain": [
       "{'delta.enableChangeDataFeed': 'true',\n",
       " 'delta.logRetentionDuration': 'interval 1000000000 weeks'}"
      ]
     },
     "execution_count": 70,
     "metadata": {},
     "output_type": "execute_result"
    }
   ],
   "execution_count": 70
  },
  {
   "metadata": {
    "ExecuteTime": {
     "end_time": "2025-05-05T09:42:30.829573Z",
     "start_time": "2025-05-05T09:42:30.665510Z"
    }
   },
   "cell_type": "code",
   "source": [
    "(\n",
    "    dt\n",
    "    .merge(\n",
    "        df.to_arrow(),\n",
    "        predicate='src.id = dst.id',\n",
    "        source_alias='src',\n",
    "        target_alias='dst',\n",
    "    )\n",
    "    .when_matched_update_all()\n",
    "    .when_not_matched_insert_all()\n",
    "    .execute()\n",
    ")"
   ],
   "id": "f8c52e473d754cae",
   "outputs": [
    {
     "data": {
      "text/plain": [
       "{'num_source_rows': 2351,\n",
       " 'num_target_rows_inserted': 2351,\n",
       " 'num_target_rows_updated': 0,\n",
       " 'num_target_rows_deleted': 0,\n",
       " 'num_target_rows_copied': 0,\n",
       " 'num_output_rows': 2351,\n",
       " 'num_target_files_scanned': 0,\n",
       " 'num_target_files_skipped_during_scan': 0,\n",
       " 'num_target_files_added': 2,\n",
       " 'num_target_files_removed': 0,\n",
       " 'execution_time_ms': 146,\n",
       " 'scan_time_ms': 0,\n",
       " 'rewrite_time_ms': 37}"
      ]
     },
     "execution_count": 73,
     "metadata": {},
     "output_type": "execute_result"
    }
   ],
   "execution_count": 73
  },
  {
   "metadata": {
    "ExecuteTime": {
     "end_time": "2025-05-05T09:43:37.509119Z",
     "start_time": "2025-05-05T09:43:37.504926Z"
    }
   },
   "cell_type": "code",
   "source": "dt = dl.DeltaTable(settings.BASE_DIR / 'data/lake/nasa_firms__viirs')",
   "id": "63199cf57b3d341",
   "outputs": [],
   "execution_count": 77
  },
  {
   "metadata": {
    "ExecuteTime": {
     "end_time": "2025-05-05T09:45:06.019816Z",
     "start_time": "2025-05-05T09:45:06.004349Z"
    }
   },
   "cell_type": "code",
   "source": "pl.from_arrow(dt.load_cdf().read_all()).sort('_commit_timestamp', 'timestamp')",
   "id": "3e3eb9d2c28df18f",
   "outputs": [
    {
     "data": {
      "text/plain": [
       "shape: (2_351, 17)\n",
       "┌───────────┬───────────┬───────────┬───────────┬───┬───────────┬───────────┬───────────┬──────────┐\n",
       "│ id        ┆ country_i ┆ timestamp ┆ bright_ti ┆ … ┆ geometry  ┆ _change_t ┆ _commit_v ┆ _commit_ │\n",
       "│ ---       ┆ d         ┆ ---       ┆ 4         ┆   ┆ ---       ┆ ype       ┆ ersion    ┆ timestam │\n",
       "│ str       ┆ ---       ┆ datetime[ ┆ ---       ┆   ┆ binary    ┆ ---       ┆ ---       ┆ p        │\n",
       "│           ┆ str       ┆ μs]       ┆ f32       ┆   ┆           ┆ str       ┆ i64       ┆ ---      │\n",
       "│           ┆           ┆           ┆           ┆   ┆           ┆           ┆           ┆ datetime │\n",
       "│           ┆           ┆           ┆           ┆   ┆           ┆           ┆           ┆ [ms]     │\n",
       "╞═══════════╪═══════════╪═══════════╪═══════════╪═══╪═══════════╪═══════════╪═══════════╪══════════╡\n",
       "│ 793a14e9a ┆ PHL       ┆ 2025-04-2 ┆ 335.95999 ┆ … ┆ b\"\\x01\\x0 ┆ insert    ┆ 1         ┆ 2025-05- │\n",
       "│ 90ecc0883 ┆           ┆ 6         ┆ 1         ┆   ┆ 1\\x00\\x00 ┆           ┆           ┆ 05 09:42 │\n",
       "│ fd6972fd2 ┆           ┆ 04:34:00  ┆           ┆   ┆ \\x00\\x00\\ ┆           ┆           ┆ :30.823  │\n",
       "│ e03…      ┆           ┆           ┆           ┆   ┆ x00…      ┆           ┆           ┆          │\n",
       "│ 9799c8962 ┆ PHL       ┆ 2025-04-2 ┆ 338.32998 ┆ … ┆ b\"\\x01\\x0 ┆ insert    ┆ 1         ┆ 2025-05- │\n",
       "│ e68aea122 ┆           ┆ 6         ┆ 7         ┆   ┆ 1\\x00\\x00 ┆           ┆           ┆ 05 09:42 │\n",
       "│ b49f17062 ┆           ┆ 04:34:00  ┆           ┆   ┆ \\x00\\x00\\ ┆           ┆           ┆ :30.823  │\n",
       "│ 2a8…      ┆           ┆           ┆           ┆   ┆ x00…      ┆           ┆           ┆          │\n",
       "│ 3f74abe48 ┆ PHL       ┆ 2025-04-2 ┆ 338.20999 ┆ … ┆ b\"\\x01\\x0 ┆ insert    ┆ 1         ┆ 2025-05- │\n",
       "│ 514fdb431 ┆           ┆ 6         ┆ 1         ┆   ┆ 1\\x00\\x00 ┆           ┆           ┆ 05 09:42 │\n",
       "│ fe6ee6e59 ┆           ┆ 04:34:00  ┆           ┆   ┆ \\x00\\x00\\ ┆           ┆           ┆ :30.823  │\n",
       "│ d49…      ┆           ┆           ┆           ┆   ┆ x00…      ┆           ┆           ┆          │\n",
       "│ 58f69c7f0 ┆ PHL       ┆ 2025-04-2 ┆ 344.04998 ┆ … ┆ b\"\\x01\\x0 ┆ insert    ┆ 1         ┆ 2025-05- │\n",
       "│ 51e1735f6 ┆           ┆ 6         ┆ 8         ┆   ┆ 1\\x00\\x00 ┆           ┆           ┆ 05 09:42 │\n",
       "│ 1bfb72388 ┆           ┆ 04:34:00  ┆           ┆   ┆ \\x00\\x00\\ ┆           ┆           ┆ :30.823  │\n",
       "│ ef5…      ┆           ┆           ┆           ┆   ┆ x00…      ┆           ┆           ┆          │\n",
       "│ 2fce95207 ┆ PHL       ┆ 2025-04-2 ┆ 344.79998 ┆ … ┆ b\"\\x01\\x0 ┆ insert    ┆ 1         ┆ 2025-05- │\n",
       "│ 3dd7ca9a5 ┆           ┆ 6         ┆ 8         ┆   ┆ 1\\x00\\x00 ┆           ┆           ┆ 05 09:42 │\n",
       "│ cef776da3 ┆           ┆ 04:34:00  ┆           ┆   ┆ \\x00\\x00\\ ┆           ┆           ┆ :30.823  │\n",
       "│ 637…      ┆           ┆           ┆           ┆   ┆ x00…      ┆           ┆           ┆          │\n",
       "│ …         ┆ …         ┆ …         ┆ …         ┆ … ┆ …         ┆ …         ┆ …         ┆ …        │\n",
       "│ 7b5d4b6a9 ┆ THA       ┆ 2025-04-2 ┆ 303.98999 ┆ … ┆ b\"\\x01\\x0 ┆ insert    ┆ 1         ┆ 2025-05- │\n",
       "│ 7afedd075 ┆           ┆ 6         ┆           ┆   ┆ 1\\x00\\x00 ┆           ┆           ┆ 05 09:42 │\n",
       "│ 6b9174a01 ┆           ┆ 07:36:00  ┆           ┆   ┆ \\x00\\x00\\ ┆           ┆           ┆ :30.823  │\n",
       "│ d5e…      ┆           ┆           ┆           ┆   ┆ x00…      ┆           ┆           ┆          │\n",
       "│ 1045e5005 ┆ THA       ┆ 2025-04-2 ┆ 306.26998 ┆ … ┆ b\"\\x01\\x0 ┆ insert    ┆ 1         ┆ 2025-05- │\n",
       "│ f09961189 ┆           ┆ 6         ┆ 9         ┆   ┆ 1\\x00\\x00 ┆           ┆           ┆ 05 09:42 │\n",
       "│ ae8750ab4 ┆           ┆ 07:36:00  ┆           ┆   ┆ \\x00\\x00\\ ┆           ┆           ┆ :30.823  │\n",
       "│ f43…      ┆           ┆           ┆           ┆   ┆ x00…      ┆           ┆           ┆          │\n",
       "│ b912eeea7 ┆ THA       ┆ 2025-04-2 ┆ 297.91000 ┆ … ┆ b\"\\x01\\x0 ┆ insert    ┆ 1         ┆ 2025-05- │\n",
       "│ 3d78c7bc3 ┆           ┆ 6         ┆ 4         ┆   ┆ 1\\x00\\x00 ┆           ┆           ┆ 05 09:42 │\n",
       "│ f11fbbdd7 ┆           ┆ 07:36:00  ┆           ┆   ┆ \\x00\\x00\\ ┆           ┆           ┆ :30.823  │\n",
       "│ 5ca…      ┆           ┆           ┆           ┆   ┆ x00…      ┆           ┆           ┆          │\n",
       "│ 7479b55b6 ┆ THA       ┆ 2025-04-2 ┆ 305.17001 ┆ … ┆ b\"\\x01\\x0 ┆ insert    ┆ 1         ┆ 2025-05- │\n",
       "│ 0831f4055 ┆           ┆ 6         ┆ 3         ┆   ┆ 1\\x00\\x00 ┆           ┆           ┆ 05 09:42 │\n",
       "│ b327e6318 ┆           ┆ 07:36:00  ┆           ┆   ┆ \\x00\\x00\\ ┆           ┆           ┆ :30.823  │\n",
       "│ 1f3…      ┆           ┆           ┆           ┆   ┆ x00…      ┆           ┆           ┆          │\n",
       "│ 986e60b3b ┆ THA       ┆ 2025-04-2 ┆ 307.39001 ┆ … ┆ b\"\\x01\\x0 ┆ insert    ┆ 1         ┆ 2025-05- │\n",
       "│ c4d911d41 ┆           ┆ 6         ┆ 5         ┆   ┆ 1\\x00\\x00 ┆           ┆           ┆ 05 09:42 │\n",
       "│ 8101c2746 ┆           ┆ 07:38:00  ┆           ┆   ┆ \\x00\\x00\\ ┆           ┆           ┆ :30.823  │\n",
       "│ 259…      ┆           ┆           ┆           ┆   ┆ x00…      ┆           ┆           ┆          │\n",
       "└───────────┴───────────┴───────────┴───────────┴───┴───────────┴───────────┴───────────┴──────────┘"
      ],
      "text/html": [
       "<div><style>\n",
       ".dataframe > thead > tr,\n",
       ".dataframe > tbody > tr {\n",
       "  text-align: right;\n",
       "  white-space: pre-wrap;\n",
       "}\n",
       "</style>\n",
       "<small>shape: (2_351, 17)</small><table border=\"1\" class=\"dataframe\"><thead><tr><th>id</th><th>country_id</th><th>timestamp</th><th>bright_ti4</th><th>bright_ti5</th><th>scan</th><th>track</th><th>satellite</th><th>instrument</th><th>confidence</th><th>version</th><th>frp</th><th>daynight</th><th>geometry</th><th>_change_type</th><th>_commit_version</th><th>_commit_timestamp</th></tr><tr><td>str</td><td>str</td><td>datetime[μs]</td><td>f32</td><td>f32</td><td>f32</td><td>f32</td><td>str</td><td>str</td><td>str</td><td>str</td><td>f32</td><td>str</td><td>binary</td><td>str</td><td>i64</td><td>datetime[ms]</td></tr></thead><tbody><tr><td>&quot;793a14e9a90ecc0883fd6972fd2e03…</td><td>&quot;PHL&quot;</td><td>2025-04-26 04:34:00</td><td>335.959991</td><td>300.089996</td><td>0.41</td><td>0.61</td><td>&quot;N21&quot;</td><td>&quot;VIIRS&quot;</td><td>&quot;n&quot;</td><td>&quot;2.0NRT&quot;</td><td>8.02</td><td>&quot;D&quot;</td><td>b&quot;\\x01\\x01\\x00\\x00\\x00\\x00\\x00\\x00\\x20b\\xaa.@\\x00\\x00\\x00\\xc0A\\x06^@&quot;</td><td>&quot;insert&quot;</td><td>1</td><td>2025-05-05 09:42:30.823</td></tr><tr><td>&quot;9799c8962e68aea122b49f170622a8…</td><td>&quot;PHL&quot;</td><td>2025-04-26 04:34:00</td><td>338.329987</td><td>305.049988</td><td>0.38</td><td>0.58</td><td>&quot;N21&quot;</td><td>&quot;VIIRS&quot;</td><td>&quot;n&quot;</td><td>&quot;2.0NRT&quot;</td><td>2.61</td><td>&quot;D&quot;</td><td>b&quot;\\x01\\x01\\x00\\x00\\x00\\x00\\x00\\x00`\\x1d\\x15/@\\x00\\x00\\x00@\\x14)^@&quot;</td><td>&quot;insert&quot;</td><td>1</td><td>2025-05-05 09:42:30.823</td></tr><tr><td>&quot;3f74abe48514fdb431fe6ee6e59d49…</td><td>&quot;PHL&quot;</td><td>2025-04-26 04:34:00</td><td>338.209991</td><td>297.640015</td><td>0.4</td><td>0.6</td><td>&quot;N21&quot;</td><td>&quot;VIIRS&quot;</td><td>&quot;n&quot;</td><td>&quot;2.0NRT&quot;</td><td>6.26</td><td>&quot;D&quot;</td><td>b&quot;\\x01\\x01\\x00\\x00\\x00\\x00\\x00\\x00\\x80]&quot;-@\\x00\\x00\\x00\\xc0[\\x1e^@&quot;</td><td>&quot;insert&quot;</td><td>1</td><td>2025-05-05 09:42:30.823</td></tr><tr><td>&quot;58f69c7f051e1735f61bfb72388ef5…</td><td>&quot;PHL&quot;</td><td>2025-04-26 04:34:00</td><td>344.049988</td><td>301.559998</td><td>0.4</td><td>0.6</td><td>&quot;N21&quot;</td><td>&quot;VIIRS&quot;</td><td>&quot;n&quot;</td><td>&quot;2.0NRT&quot;</td><td>8.32</td><td>&quot;D&quot;</td><td>b&quot;\\x01\\x01\\x00\\x00\\x00\\x00\\x00\\x00`\\x84@*@\\x00\\x00\\x00\\x00]6^@&quot;</td><td>&quot;insert&quot;</td><td>1</td><td>2025-05-05 09:42:30.823</td></tr><tr><td>&quot;2fce952073dd7ca9a5cef776da3637…</td><td>&quot;PHL&quot;</td><td>2025-04-26 04:34:00</td><td>344.799988</td><td>301.170013</td><td>0.42</td><td>0.61</td><td>&quot;N21&quot;</td><td>&quot;VIIRS&quot;</td><td>&quot;n&quot;</td><td>&quot;2.0NRT&quot;</td><td>6.76</td><td>&quot;D&quot;</td><td>b&quot;\\x01\\x01\\x00\\x00\\x00\\x00\\x00\\x00\\x00\\x97\\xf9*@\\x00\\x00\\x00\\x806$^@&quot;</td><td>&quot;insert&quot;</td><td>1</td><td>2025-05-05 09:42:30.823</td></tr><tr><td>&hellip;</td><td>&hellip;</td><td>&hellip;</td><td>&hellip;</td><td>&hellip;</td><td>&hellip;</td><td>&hellip;</td><td>&hellip;</td><td>&hellip;</td><td>&hellip;</td><td>&hellip;</td><td>&hellip;</td><td>&hellip;</td><td>&hellip;</td><td>&hellip;</td><td>&hellip;</td><td>&hellip;</td></tr><tr><td>&quot;7b5d4b6a97afedd0756b9174a01d5e…</td><td>&quot;THA&quot;</td><td>2025-04-26 07:36:00</td><td>303.98999</td><td>285.269989</td><td>0.6</td><td>0.53</td><td>&quot;N20&quot;</td><td>&quot;VIIRS&quot;</td><td>&quot;n&quot;</td><td>&quot;2.0NRT&quot;</td><td>1.62</td><td>&quot;N&quot;</td><td>b&quot;\\x01\\x01\\x00\\x00\\x00\\x00\\x00\\x00\\x80\\xe563@\\x00\\x00\\x00\\x20G\\x80X@&quot;</td><td>&quot;insert&quot;</td><td>1</td><td>2025-05-05 09:42:30.823</td></tr><tr><td>&quot;1045e5005f09961189ae8750ab4f43…</td><td>&quot;THA&quot;</td><td>2025-04-26 07:36:00</td><td>306.269989</td><td>286.089996</td><td>0.6</td><td>0.53</td><td>&quot;N20&quot;</td><td>&quot;VIIRS&quot;</td><td>&quot;n&quot;</td><td>&quot;2.0NRT&quot;</td><td>2.57</td><td>&quot;N&quot;</td><td>b&quot;\\x01\\x01\\x00\\x00\\x00\\x00\\x00\\x00\\x20\\x01?3@\\x00\\x00\\x00\\x00\\xcf\\x7fX@&quot;</td><td>&quot;insert&quot;</td><td>1</td><td>2025-05-05 09:42:30.823</td></tr><tr><td>&quot;b912eeea73d78c7bc3f11fbbdd75ca…</td><td>&quot;THA&quot;</td><td>2025-04-26 07:36:00</td><td>297.910004</td><td>274.649994</td><td>0.42</td><td>0.61</td><td>&quot;N20&quot;</td><td>&quot;VIIRS&quot;</td><td>&quot;n&quot;</td><td>&quot;2.0NRT&quot;</td><td>1.96</td><td>&quot;N&quot;</td><td>b&quot;\\x01\\x01\\x00\\x00\\x00\\x00\\x00\\x00\\xa0\\xf0\\x0b4@\\x00\\x00\\x00\\x20\\xa0\\x1aY@&quot;</td><td>&quot;insert&quot;</td><td>1</td><td>2025-05-05 09:42:30.823</td></tr><tr><td>&quot;7479b55b60831f4055b327e63181f3…</td><td>&quot;THA&quot;</td><td>2025-04-26 07:36:00</td><td>305.170013</td><td>286.480011</td><td>0.35</td><td>0.57</td><td>&quot;N20&quot;</td><td>&quot;VIIRS&quot;</td><td>&quot;n&quot;</td><td>&quot;2.0NRT&quot;</td><td>1.82</td><td>&quot;N&quot;</td><td>b&quot;\\x01\\x01\\x00\\x00\\x00\\x00\\x00\\x00`\\xe383@\\x00\\x00\\x00\\x80p\\xc1X@&quot;</td><td>&quot;insert&quot;</td><td>1</td><td>2025-05-05 09:42:30.823</td></tr><tr><td>&quot;986e60b3bc4d911d418101c2746259…</td><td>&quot;THA&quot;</td><td>2025-04-26 07:38:00</td><td>307.390015</td><td>267.429993</td><td>0.47</td><td>0.64</td><td>&quot;N20&quot;</td><td>&quot;VIIRS&quot;</td><td>&quot;n&quot;</td><td>&quot;2.0NRT&quot;</td><td>1.22</td><td>&quot;N&quot;</td><td>b&quot;\\x01\\x01\\x00\\x00\\x00\\x00\\x00\\x00\\x20sj/@\\x00\\x00\\x00\\x20n\\xf7X@&quot;</td><td>&quot;insert&quot;</td><td>1</td><td>2025-05-05 09:42:30.823</td></tr></tbody></table></div>"
      ]
     },
     "execution_count": 83,
     "metadata": {},
     "output_type": "execute_result"
    }
   ],
   "execution_count": 83
  }
 ],
 "metadata": {
  "kernelspec": {
   "name": "python3",
   "language": "python",
   "display_name": "Python 3 (ipykernel)"
  }
 },
 "nbformat": 5,
 "nbformat_minor": 9
}
