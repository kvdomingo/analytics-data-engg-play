{
 "cells": [
  {
   "metadata": {
    "ExecuteTime": {
     "end_time": "2025-04-19T17:10:23.694352Z",
     "start_time": "2025-04-19T17:10:23.486952Z"
    }
   },
   "cell_type": "code",
   "source": [
    "import os\n",
    "from dotenv import load_dotenv\n",
    "\n",
    "load_dotenv()\n",
    "os.environ.setdefault('MINIO_BUCKET', 'ae-de-play')\n",
    "\n",
    "import duckdb\n",
    "import polars as pl\n",
    "from src.settings import settings\n",
    "from src.schemas.climate_air_quality import ClimateAirQuality"
   ],
   "id": "4beea0405951b2fe",
   "outputs": [],
   "execution_count": 1
  },
  {
   "metadata": {
    "ExecuteTime": {
     "end_time": "2025-04-19T17:10:24.107947Z",
     "start_time": "2025-04-19T17:10:24.096076Z"
    }
   },
   "cell_type": "code",
   "source": "conn = duckdb.connect(settings.DUCKDB_DATABASE)",
   "id": "9ef32e999049ae00",
   "outputs": [],
   "execution_count": 2
  },
  {
   "metadata": {
    "ExecuteTime": {
     "end_time": "2025-04-19T17:10:25.477458Z",
     "start_time": "2025-04-19T17:10:24.999210Z"
    }
   },
   "cell_type": "code",
   "source": [
    "df = conn.sql(\"\"\"\n",
    "SELECT * FROM caq.climate_air_quality\n",
    "ORDER BY date DESC\n",
    "LIMIT 20\n",
    "\"\"\").pl()\n",
    "df"
   ],
   "id": "48857c08a60b9b1",
   "outputs": [
    {
     "data": {
      "text/plain": [
       "shape: (20, 10)\n",
       "┌─────────────┬─────────────┬────────────┬──────┬───┬──────┬───────┬───────┬───────┐\n",
       "│ uuid        ┆ adm4_pcode  ┆ date       ┆ freq ┆ … ┆ so2  ┆ o3    ┆ pm10  ┆ pm25  │\n",
       "│ ---         ┆ ---         ┆ ---        ┆ ---  ┆   ┆ ---  ┆ ---   ┆ ---   ┆ ---   │\n",
       "│ str         ┆ str         ┆ str        ┆ str  ┆   ┆ str  ┆ str   ┆ str   ┆ str   │\n",
       "╞═════════════╪═════════════╪════════════╪══════╪═══╪══════╪═══════╪═══════╪═══════╡\n",
       "│ CAIRQ1BC047 ┆ PH063022144 ┆ 2022-12-31 ┆ D    ┆ … ┆ 0.81 ┆ 33.79 ┆ 20.1  ┆ 13.89 │\n",
       "│ CAIRQ22539F ┆ PH072230008 ┆ 2022-12-31 ┆ D    ┆ … ┆ 1.83 ┆ 34.93 ┆ 14.95 ┆ 9.77  │\n",
       "│ CAIRQ25396F ┆ PH083747014 ┆ 2022-12-31 ┆ D    ┆ … ┆ 0.13 ┆ 36.73 ┆ 13.06 ┆ 8.2   │\n",
       "│ CAIRQ3E13E7 ┆ PH097332098 ┆ 2022-12-31 ┆ D    ┆ … ┆ 0.09 ┆ 36.87 ┆ 54.43 ┆ 37.9  │\n",
       "│ CAIRQ45C48F ┆ PH104305060 ┆ 2022-12-31 ┆ D    ┆ … ┆ 0.45 ┆ 37.53 ┆ 21.42 ┆ 14.56 │\n",
       "│ …           ┆ …           ┆ …          ┆ …    ┆ … ┆ …    ┆ …     ┆ …     ┆ …     │\n",
       "│ CAIRQ448AB7 ┆ PH104305049 ┆ 2022-12-31 ┆ D    ┆ … ┆ 0.29 ┆ 37.72 ┆ 21.42 ┆ 14.56 │\n",
       "│ CAIRQ446E2F ┆ PH104305048 ┆ 2022-12-31 ┆ D    ┆ … ┆ 0.12 ┆ 37.72 ┆ 21.42 ┆ 14.56 │\n",
       "│ CAIRQ1E176F ┆ PH063022169 ┆ 2022-12-31 ┆ D    ┆ … ┆ 0.81 ┆ 33.79 ┆ 20.1  ┆ 13.89 │\n",
       "│ CAIRQ4636AF ┆ PH104305064 ┆ 2022-12-31 ┆ D    ┆ … ┆ 0.45 ┆ 37.72 ┆ 21.42 ┆ 14.56 │\n",
       "│ CAIRQ1FC367 ┆ PH063022186 ┆ 2022-12-31 ┆ D    ┆ … ┆ 0.81 ┆ 33.79 ┆ 20.1  ┆ 13.89 │\n",
       "└─────────────┴─────────────┴────────────┴──────┴───┴──────┴───────┴───────┴───────┘"
      ],
      "text/html": [
       "<div><style>\n",
       ".dataframe > thead > tr,\n",
       ".dataframe > tbody > tr {\n",
       "  text-align: right;\n",
       "  white-space: pre-wrap;\n",
       "}\n",
       "</style>\n",
       "<small>shape: (20, 10)</small><table border=\"1\" class=\"dataframe\"><thead><tr><th>uuid</th><th>adm4_pcode</th><th>date</th><th>freq</th><th>no2</th><th>co</th><th>so2</th><th>o3</th><th>pm10</th><th>pm25</th></tr><tr><td>str</td><td>str</td><td>str</td><td>str</td><td>str</td><td>str</td><td>str</td><td>str</td><td>str</td><td>str</td></tr></thead><tbody><tr><td>&quot;CAIRQ1BC047&quot;</td><td>&quot;PH063022144&quot;</td><td>&quot;2022-12-31&quot;</td><td>&quot;D&quot;</td><td>&quot;2.16&quot;</td><td>&quot;0.0725&quot;</td><td>&quot;0.81&quot;</td><td>&quot;33.79&quot;</td><td>&quot;20.1&quot;</td><td>&quot;13.89&quot;</td></tr><tr><td>&quot;CAIRQ22539F&quot;</td><td>&quot;PH072230008&quot;</td><td>&quot;2022-12-31&quot;</td><td>&quot;D&quot;</td><td>&quot;0.62&quot;</td><td>&quot;0.0683&quot;</td><td>&quot;1.83&quot;</td><td>&quot;34.93&quot;</td><td>&quot;14.95&quot;</td><td>&quot;9.77&quot;</td></tr><tr><td>&quot;CAIRQ25396F&quot;</td><td>&quot;PH083747014&quot;</td><td>&quot;2022-12-31&quot;</td><td>&quot;D&quot;</td><td>&quot;0.4&quot;</td><td>&quot;0.0671&quot;</td><td>&quot;0.13&quot;</td><td>&quot;36.73&quot;</td><td>&quot;13.06&quot;</td><td>&quot;8.2&quot;</td></tr><tr><td>&quot;CAIRQ3E13E7&quot;</td><td>&quot;PH097332098&quot;</td><td>&quot;2022-12-31&quot;</td><td>&quot;D&quot;</td><td>&quot;0.11&quot;</td><td>&quot;0.067&quot;</td><td>&quot;0.09&quot;</td><td>&quot;36.87&quot;</td><td>&quot;54.43&quot;</td><td>&quot;37.9&quot;</td></tr><tr><td>&quot;CAIRQ45C48F&quot;</td><td>&quot;PH104305060&quot;</td><td>&quot;2022-12-31&quot;</td><td>&quot;D&quot;</td><td>&quot;1.23&quot;</td><td>&quot;0.0924&quot;</td><td>&quot;0.45&quot;</td><td>&quot;37.53&quot;</td><td>&quot;21.42&quot;</td><td>&quot;14.56&quot;</td></tr><tr><td>&hellip;</td><td>&hellip;</td><td>&hellip;</td><td>&hellip;</td><td>&hellip;</td><td>&hellip;</td><td>&hellip;</td><td>&hellip;</td><td>&hellip;</td><td>&hellip;</td></tr><tr><td>&quot;CAIRQ448AB7&quot;</td><td>&quot;PH104305049&quot;</td><td>&quot;2022-12-31&quot;</td><td>&quot;D&quot;</td><td>&quot;1.23&quot;</td><td>&quot;0.0878&quot;</td><td>&quot;0.29&quot;</td><td>&quot;37.72&quot;</td><td>&quot;21.42&quot;</td><td>&quot;14.56&quot;</td></tr><tr><td>&quot;CAIRQ446E2F&quot;</td><td>&quot;PH104305048&quot;</td><td>&quot;2022-12-31&quot;</td><td>&quot;D&quot;</td><td>&quot;1.23&quot;</td><td>&quot;0.0832&quot;</td><td>&quot;0.12&quot;</td><td>&quot;37.72&quot;</td><td>&quot;21.42&quot;</td><td>&quot;14.56&quot;</td></tr><tr><td>&quot;CAIRQ1E176F&quot;</td><td>&quot;PH063022169&quot;</td><td>&quot;2022-12-31&quot;</td><td>&quot;D&quot;</td><td>&quot;2.16&quot;</td><td>&quot;0.0725&quot;</td><td>&quot;0.81&quot;</td><td>&quot;33.79&quot;</td><td>&quot;20.1&quot;</td><td>&quot;13.89&quot;</td></tr><tr><td>&quot;CAIRQ4636AF&quot;</td><td>&quot;PH104305064&quot;</td><td>&quot;2022-12-31&quot;</td><td>&quot;D&quot;</td><td>&quot;1.23&quot;</td><td>&quot;0.0924&quot;</td><td>&quot;0.45&quot;</td><td>&quot;37.72&quot;</td><td>&quot;21.42&quot;</td><td>&quot;14.56&quot;</td></tr><tr><td>&quot;CAIRQ1FC367&quot;</td><td>&quot;PH063022186&quot;</td><td>&quot;2022-12-31&quot;</td><td>&quot;D&quot;</td><td>&quot;2.16&quot;</td><td>&quot;0.0725&quot;</td><td>&quot;0.81&quot;</td><td>&quot;33.79&quot;</td><td>&quot;20.1&quot;</td><td>&quot;13.89&quot;</td></tr></tbody></table></div>"
      ]
     },
     "execution_count": 3,
     "metadata": {},
     "output_type": "execute_result"
    }
   ],
   "execution_count": 3
  }
 ],
 "metadata": {
  "kernelspec": {
   "name": "python3",
   "language": "python",
   "display_name": "Python 3 (ipykernel)"
  }
 },
 "nbformat": 5,
 "nbformat_minor": 9
}
