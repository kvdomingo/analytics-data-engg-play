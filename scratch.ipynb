{
 "cells": [
  {
   "metadata": {},
   "cell_type": "code",
   "source": [
    "import os\n",
    "from dotenv import load_dotenv\n",
    "\n",
    "load_dotenv()\n",
    "os.environ.setdefault('MINIO_BUCKET', 'ae-de-play')\n",
    "\n",
    "import duckdb\n",
    "from src.settings import settings"
   ],
   "id": "4beea0405951b2fe",
   "outputs": [],
   "execution_count": null
  },
  {
   "metadata": {},
   "cell_type": "code",
   "source": "conn = duckdb.connect(settings.DUCKDB_DATABASE)",
   "id": "9ef32e999049ae00",
   "outputs": [],
   "execution_count": null
  },
  {
   "metadata": {},
   "cell_type": "code",
   "source": [
    "conn.sql(\"\"\"\n",
    "SELECT * FROM public.cchain__climate_atmosphere\n",
    "ORDER BY uuid\n",
    "LIMIT 20\n",
    "\"\"\").pl()"
   ],
   "id": "48857c08a60b9b1",
   "outputs": [],
   "execution_count": null
  }
 ],
 "metadata": {
  "kernelspec": {
   "name": "python3",
   "language": "python",
   "display_name": "Python 3 (ipykernel)"
  }
 },
 "nbformat": 5,
 "nbformat_minor": 9
}
