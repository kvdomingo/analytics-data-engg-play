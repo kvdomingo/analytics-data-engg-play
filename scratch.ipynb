{
 "cells": [
  {
   "metadata": {},
   "cell_type": "code",
   "source": [
    "from dotenv import load_dotenv\n",
    "\n",
    "load_dotenv()\n",
    "\n",
    "import duckdb\n",
    "from src.settings import settings"
   ],
   "id": "83dc5f9ee3353de3",
   "outputs": [],
   "execution_count": null
  },
  {
   "metadata": {},
   "cell_type": "code",
   "source": "conn = duckdb.connect(settings.DUCKDB_DATABASE)",
   "id": "bc7f3e9c137bf3b4",
   "outputs": [],
   "execution_count": null
  },
  {
   "metadata": {},
   "cell_type": "code",
   "source": [
    "conn.sql(\"\"\"\n",
    "SELECT * FROM public.cchain__climate_atmosphere\n",
    "ORDER BY uuid\n",
    "LIMIT 20\n",
    "\"\"\").pl()"
   ],
   "id": "4e00582187ed88f0",
   "outputs": [],
   "execution_count": null
  }
 ],
 "metadata": {
  "kernelspec": {
   "name": "python3",
   "language": "python",
   "display_name": "Python 3 (ipykernel)"
  }
 },
 "nbformat": 5,
 "nbformat_minor": 9
}
