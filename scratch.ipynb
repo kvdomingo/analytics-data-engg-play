{
 "cells": [
  {
   "metadata": {},
   "cell_type": "code",
   "source": [
    "from dotenv import load_dotenv\n",
    "\n",
    "load_dotenv()\n",
    "\n",
    "import duckdb\n",
    "import polars as pl\n",
    "import plotly.express as px\n",
    "from src.settings import settings"
   ],
   "id": "83dc5f9ee3353de3",
   "outputs": [],
   "execution_count": null
  },
  {
   "metadata": {},
   "cell_type": "code",
   "source": [
    "%load_ext sql\n",
    "conn = duckdb.connect(settings.DUCKDB_DATABASE)\n",
    "conn.sql(\"SET search_path TO public;\")"
   ],
   "id": "bc7f3e9c137bf3b4",
   "outputs": [],
   "execution_count": null
  },
  {
   "metadata": {},
   "cell_type": "code",
   "source": [
    "df = conn.sql(\"\"\"\n",
    "SELECT\n",
    "    CONCAT(\n",
    "        CAST(date_part('year', ca.date) AS VARCHAR),\n",
    "        'Q',\n",
    "        CAST(date_part('quarter', ca.date) AS VARCHAR)\n",
    "    ) AS quarter,\n",
    "    AVG(ca.tave) AS tave,\n",
    "    AVG(ca.tmin) AS tmin,\n",
    "    AVG(ca.tmax) AS tmax,\n",
    "    AVG(heat_index) AS heat_index,\n",
    "    AVG(pr) AS pr,\n",
    "    AVG(wind_speed) AS wind_speed,\n",
    "    AVG(rh) AS rh,\n",
    "    AVG(solar_rad) AS solar_rad,\n",
    "    AVG(uv_rad) AS uv_rad\n",
    "FROM cchain__climate_atmosphere ca\n",
    "LEFT JOIN cchain__location l ON ca.adm4_pcode = l.adm4_pcode\n",
    "WHERE l.adm1_en = 'Region III'\n",
    "GROUP BY quarter\n",
    "ORDER BY quarter\n",
    "\"\"\").pl()\n",
    "df"
   ],
   "id": "4e00582187ed88f0",
   "outputs": [],
   "execution_count": null
  },
  {
   "metadata": {},
   "cell_type": "code",
   "source": [
    "px.line(\n",
    "    df,\n",
    "    x='quarter',\n",
    "    y='pr',\n",
    "    title='Quarterly Precipitation in Region III (2003-2022)',\n",
    ")"
   ],
   "id": "b9dcfad5e28010f",
   "outputs": [],
   "execution_count": null
  },
  {
   "metadata": {},
   "cell_type": "code",
   "source": "",
   "id": "3ed11c4959279e1a",
   "outputs": [],
   "execution_count": null
  }
 ],
 "metadata": {
  "kernelspec": {
   "name": "python3",
   "language": "python",
   "display_name": "Python 3 (ipykernel)"
  }
 },
 "nbformat": 5,
 "nbformat_minor": 9
}
