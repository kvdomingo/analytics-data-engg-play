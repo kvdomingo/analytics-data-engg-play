{
 "cells": [
  {
   "cell_type": "code",
   "execution_count": null,
   "id": "83dc5f9ee3353de3",
   "metadata": {
    "ExecuteTime": {
     "end_time": "2025-05-23T16:20:01.720545Z",
     "start_time": "2025-05-23T16:19:59.200499Z"
    }
   },
   "outputs": [],
   "source": [
    "from dotenv import load_dotenv\n",
    "\n",
    "load_dotenv()\n",
    "\n",
    "import duckdb\n",
    "import json\n",
    "import re\n",
    "import polars as pl\n",
    "from bs4 import BeautifulSoup\n",
    "from curl_cffi import AsyncSession\n",
    "from src.settings import settings\n",
    "from datetime import datetime"
   ]
  },
  {
   "cell_type": "code",
   "execution_count": null,
   "id": "bc7f3e9c137bf3b4",
   "metadata": {
    "ExecuteTime": {
     "end_time": "2025-05-17T15:42:00.493710Z",
     "start_time": "2025-05-17T15:41:55.191336Z"
    }
   },
   "outputs": [],
   "source": [
    "%load_ext sql\n",
    "conn = duckdb.connect(settings.DUCKDB_DATABASE)\n",
    "conn.sql(\"SET search_path TO ae_de_play;\")\n",
    "conn.install_extension('spatial')\n",
    "conn.load_extension('spatial')\n",
    "conn.install_extension('delta')\n",
    "conn.load_extension('delta')"
   ]
  },
  {
   "cell_type": "code",
   "execution_count": null,
   "id": "157041f5",
   "metadata": {},
   "outputs": [],
   "source": [
    "session = AsyncSession(\n",
    "    allow_redirects=True,\n",
    "    base_url=\"https://dynaquestpc.com\",\n",
    "    impersonate=\"chrome\",\n",
    ")"
   ]
  },
  {
   "cell_type": "code",
   "execution_count": null,
   "id": "01d68dd4",
   "metadata": {},
   "outputs": [],
   "source": [
    "category = \"graphics-card\"\n",
    "\n",
    "res = await session.get(\n",
    "    f\"/collections/{category}/products.json\",\n",
    "    params={\n",
    "        \"sort_by\": \"best-selling\",\n",
    "        \"page\": 1,\n",
    "        \"limit\": 1000,\n",
    "    }\n",
    ")\n",
    "products = res.json()[\"products\"]"
   ]
  },
  {
   "cell_type": "code",
   "execution_count": null,
   "id": "c77bbc95",
   "metadata": {},
   "outputs": [],
   "source": [
    "df = pl.from_dicts(products)\n",
    "df"
   ]
  },
  {
   "cell_type": "code",
   "execution_count": null,
   "id": "ca717d37",
   "metadata": {},
   "outputs": [],
   "source": []
  }
 ],
 "metadata": {
  "kernelspec": {
   "display_name": ".venv",
   "language": "python",
   "name": "python3"
  },
  "language_info": {
   "codemirror_mode": {
    "name": "ipython",
    "version": 3
   },
   "file_extension": ".py",
   "mimetype": "text/x-python",
   "name": "python",
   "nbconvert_exporter": "python",
   "pygments_lexer": "ipython3",
   "version": "3.12.11"
  }
 },
 "nbformat": 5,
 "nbformat_minor": 9
}
