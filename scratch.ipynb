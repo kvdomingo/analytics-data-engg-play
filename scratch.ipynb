{
 "cells": [
  {
   "metadata": {
    "ExecuteTime": {
     "end_time": "2025-05-17T15:41:46.162604Z",
     "start_time": "2025-05-17T15:41:44.324808Z"
    }
   },
   "cell_type": "code",
   "source": [
    "from deltalake import DeltaTable\n",
    "from dotenv import load_dotenv\n",
    "\n",
    "load_dotenv()\n",
    "\n",
    "import duckdb\n",
    "import polars as pl\n",
    "import polars_st as st\n",
    "import deltalake as dl\n",
    "import pyarrow as pa\n",
    "from src.settings import settings\n",
    "from datetime import datetime\n",
    "from zoneinfo import ZoneInfo\n",
    "from httpx import Client\n",
    "from fake_useragent import UserAgent"
   ],
   "id": "83dc5f9ee3353de3",
   "outputs": [],
   "execution_count": 1
  },
  {
   "metadata": {
    "ExecuteTime": {
     "end_time": "2025-05-17T15:42:00.493710Z",
     "start_time": "2025-05-17T15:41:55.191336Z"
    }
   },
   "cell_type": "code",
   "source": [
    "%load_ext sql\n",
    "conn = duckdb.connect(settings.DUCKDB_DATABASE)\n",
    "conn.sql(\"SET search_path TO ae_de_play;\")\n",
    "conn.install_extension('spatial')\n",
    "conn.load_extension('spatial')\n",
    "conn.install_extension('delta')\n",
    "conn.load_extension('delta')"
   ],
   "id": "bc7f3e9c137bf3b4",
   "outputs": [
    {
     "name": "stderr",
     "output_type": "stream",
     "text": [
      "/app/.venv/lib/python3.12/site-packages/sql/parse.py:339: SyntaxWarning: invalid escape sequence '\\:'\n",
      "  Given a query, replaces all occurrences of ':variable' with '\\:variable' and\n",
      "/app/.venv/lib/python3.12/site-packages/sql/parse.py:369: SyntaxWarning: invalid escape sequence '\\:'\n",
      "  Given a query, replaces all occurrences of 'example'[x:y] with 'example'[x\\:y].\n"
     ]
    },
    {
     "data": {
      "text/plain": [
       "Loading configurations from /app/pyproject.toml."
      ],
      "text/html": [
       "<span style=\"None\">Loading configurations from /app/pyproject.toml.</span>"
      ]
     },
     "metadata": {},
     "output_type": "display_data"
    },
    {
     "data": {
      "text/plain": [
       "Settings changed:"
      ],
      "text/html": [
       "<span style=\"None\">Settings changed:</span>"
      ]
     },
     "metadata": {},
     "output_type": "display_data"
    },
    {
     "data": {
      "text/plain": [
       "\n",
       "+------------------+---------+\n",
       "|      Config      |  value  |\n",
       "+------------------+---------+\n",
       "|    autolimit     |  False  |\n",
       "|    autopolars    |   True  |\n",
       "|     feedback     |    1    |\n",
       "| named_parameters | enabled |\n",
       "+------------------+---------+"
      ],
      "text/html": [
       "\n",
       "<table>\n",
       "    <thead>\n",
       "        <tr>\n",
       "            <th>Config</th>\n",
       "            <th>value</th>\n",
       "        </tr>\n",
       "    </thead>\n",
       "    <tbody>\n",
       "        <tr>\n",
       "            <td>autolimit</td>\n",
       "            <td>False</td>\n",
       "        </tr>\n",
       "        <tr>\n",
       "            <td>autopolars</td>\n",
       "            <td>True</td>\n",
       "        </tr>\n",
       "        <tr>\n",
       "            <td>feedback</td>\n",
       "            <td>1</td>\n",
       "        </tr>\n",
       "        <tr>\n",
       "            <td>named_parameters</td>\n",
       "            <td>enabled</td>\n",
       "        </tr>\n",
       "    </tbody>\n",
       "</table>"
      ]
     },
     "metadata": {},
     "output_type": "display_data"
    }
   ],
   "execution_count": 2
  },
  {
   "metadata": {
    "ExecuteTime": {
     "end_time": "2025-05-17T16:11:10.336390Z",
     "start_time": "2025-05-17T16:11:10.308774Z"
    }
   },
   "cell_type": "code",
   "source": [
    "df = (\n",
    "    conn.sql('''\n",
    "    SELECT *\n",
    "    FROM ph_mte25__party_raw\n",
    "    LIMIT 10\n",
    "    ''')\n",
    "    .pl()\n",
    ")\n",
    "df"
   ],
   "id": "3ed11c4959279e1a",
   "outputs": [
    {
     "data": {
      "text/plain": [
       "shape: (10, 6)\n",
       "┌──────────────────────┬────────────┬──────────────────────┬────────┬───────┬──────────────────────┐\n",
       "│ name                 ┆ vote_count ┆ party                ┆ region ┆ batch ┆ timestamp            │\n",
       "│ ---                  ┆ ---        ┆ ---                  ┆ ---    ┆ ---   ┆ ---                  │\n",
       "│ str                  ┆ i64        ┆ str                  ┆ str    ┆ i32   ┆ datetime[μs,         │\n",
       "│                      ┆            ┆                      ┆        ┆       ┆ Etc/UTC]             │\n",
       "╞══════════════════════╪════════════╪══════════════════════╪════════╪═══════╪══════════════════════╡\n",
       "│ 4PS                  ┆ 31892      ┆ 4PS|GROUP            ┆ BARMM  ┆ 117   ┆ 2025-05-15 06:41:56  │\n",
       "│                      ┆            ┆                      ┆        ┆       ┆ UTC                  │\n",
       "│ PPP                  ┆ 7243       ┆ PPP|GROUP            ┆ BARMM  ┆ 117   ┆ 2025-05-15 06:41:56  │\n",
       "│                      ┆            ┆                      ┆        ┆       ┆ UTC                  │\n",
       "│ FPJ PANDAY BAYANIHAN ┆ 7406       ┆ FPJ PANDAY           ┆ BARMM  ┆ 117   ┆ 2025-05-15 06:41:56  │\n",
       "│                      ┆            ┆ BAYANIHAN|GROUP      ┆        ┆       ┆ UTC                  │\n",
       "│ KABATAAN             ┆ 2483       ┆ KABATAAN|GROUP       ┆ BARMM  ┆ 117   ┆ 2025-05-15 06:41:56  │\n",
       "│                      ┆            ┆                      ┆        ┆       ┆ UTC                  │\n",
       "│ DUTERTE YOUTH        ┆ 64928      ┆ DUTERTE YOUTH|GROUP  ┆ BARMM  ┆ 117   ┆ 2025-05-15 06:41:56  │\n",
       "│                      ┆            ┆                      ┆        ┆       ┆ UTC                  │\n",
       "│ ML                   ┆ 3049       ┆ ML|GROUP             ┆ BARMM  ┆ 117   ┆ 2025-05-15 06:41:56  │\n",
       "│                      ┆            ┆                      ┆        ┆       ┆ UTC                  │\n",
       "│ PBBM                 ┆ 1501       ┆ PBBM|GROUP           ┆ BARMM  ┆ 117   ┆ 2025-05-15 06:41:56  │\n",
       "│                      ┆            ┆                      ┆        ┆       ┆ UTC                  │\n",
       "│ P3PWD                ┆ 1993       ┆ P3PWD|GROUP          ┆ BARMM  ┆ 117   ┆ 2025-05-15 06:41:56  │\n",
       "│                      ┆            ┆                      ┆        ┆       ┆ UTC                  │\n",
       "│ MURANG KURYENTE      ┆ 1059       ┆ MURANG               ┆ BARMM  ┆ 117   ┆ 2025-05-15 06:41:56  │\n",
       "│                      ┆            ┆ KURYENTE|GROUP       ┆        ┆       ┆ UTC                  │\n",
       "│ BICOL SARO           ┆ 826        ┆ BICOL SARO|GROUP     ┆ BARMM  ┆ 117   ┆ 2025-05-15 06:41:56  │\n",
       "│                      ┆            ┆                      ┆        ┆       ┆ UTC                  │\n",
       "└──────────────────────┴────────────┴──────────────────────┴────────┴───────┴──────────────────────┘"
      ],
      "text/html": [
       "<div><style>\n",
       ".dataframe > thead > tr,\n",
       ".dataframe > tbody > tr {\n",
       "  text-align: right;\n",
       "  white-space: pre-wrap;\n",
       "}\n",
       "</style>\n",
       "<small>shape: (10, 6)</small><table border=\"1\" class=\"dataframe\"><thead><tr><th>name</th><th>vote_count</th><th>party</th><th>region</th><th>batch</th><th>timestamp</th></tr><tr><td>str</td><td>i64</td><td>str</td><td>str</td><td>i32</td><td>datetime[μs, Etc/UTC]</td></tr></thead><tbody><tr><td>&quot;4PS&quot;</td><td>31892</td><td>&quot;4PS|GROUP&quot;</td><td>&quot;BARMM&quot;</td><td>117</td><td>2025-05-15 06:41:56 UTC</td></tr><tr><td>&quot;PPP&quot;</td><td>7243</td><td>&quot;PPP|GROUP&quot;</td><td>&quot;BARMM&quot;</td><td>117</td><td>2025-05-15 06:41:56 UTC</td></tr><tr><td>&quot;FPJ PANDAY BAYANIHAN&quot;</td><td>7406</td><td>&quot;FPJ PANDAY BAYANIHAN|GROUP&quot;</td><td>&quot;BARMM&quot;</td><td>117</td><td>2025-05-15 06:41:56 UTC</td></tr><tr><td>&quot;KABATAAN&quot;</td><td>2483</td><td>&quot;KABATAAN|GROUP&quot;</td><td>&quot;BARMM&quot;</td><td>117</td><td>2025-05-15 06:41:56 UTC</td></tr><tr><td>&quot;DUTERTE YOUTH&quot;</td><td>64928</td><td>&quot;DUTERTE YOUTH|GROUP&quot;</td><td>&quot;BARMM&quot;</td><td>117</td><td>2025-05-15 06:41:56 UTC</td></tr><tr><td>&quot;ML&quot;</td><td>3049</td><td>&quot;ML|GROUP&quot;</td><td>&quot;BARMM&quot;</td><td>117</td><td>2025-05-15 06:41:56 UTC</td></tr><tr><td>&quot;PBBM&quot;</td><td>1501</td><td>&quot;PBBM|GROUP&quot;</td><td>&quot;BARMM&quot;</td><td>117</td><td>2025-05-15 06:41:56 UTC</td></tr><tr><td>&quot;P3PWD&quot;</td><td>1993</td><td>&quot;P3PWD|GROUP&quot;</td><td>&quot;BARMM&quot;</td><td>117</td><td>2025-05-15 06:41:56 UTC</td></tr><tr><td>&quot;MURANG KURYENTE&quot;</td><td>1059</td><td>&quot;MURANG KURYENTE|GROUP&quot;</td><td>&quot;BARMM&quot;</td><td>117</td><td>2025-05-15 06:41:56 UTC</td></tr><tr><td>&quot;BICOL SARO&quot;</td><td>826</td><td>&quot;BICOL SARO|GROUP&quot;</td><td>&quot;BARMM&quot;</td><td>117</td><td>2025-05-15 06:41:56 UTC</td></tr></tbody></table></div>"
      ]
     },
     "execution_count": 31,
     "metadata": {},
     "output_type": "execute_result"
    }
   ],
   "execution_count": 31
  },
  {
   "metadata": {
    "ExecuteTime": {
     "end_time": "2025-05-17T16:23:08.699283Z",
     "start_time": "2025-05-17T16:23:07.535231Z"
    }
   },
   "cell_type": "code",
   "source": [
    "df = st.read_file('./data/phl_adm_psa_namria_20231106_shp/phl_admbnda_adm1_psa_namria_20231106.shp')\n",
    "df"
   ],
   "id": "4a30dff9d3b15cdd",
   "outputs": [
    {
     "data": {
      "text/plain": [
       "shape: (17, 12)\n",
       "┌───────────┬───────────┬───────────┬───────────┬───┬───────────┬───────────┬───────────┬──────────┐\n",
       "│ ADM1_EN   ┆ ADM1_PCOD ┆ ADM0_EN   ┆ ADM0_PCOD ┆ … ┆ Shape_Are ┆ ADM1ALT1E ┆ AREA_SQKM ┆ geometry │\n",
       "│ ---       ┆ E         ┆ ---       ┆ E         ┆   ┆ a         ┆ N         ┆ ---       ┆ ---      │\n",
       "│ str       ┆ ---       ┆ str       ┆ ---       ┆   ┆ ---       ┆ ---       ┆ f64       ┆ binary   │\n",
       "│           ┆ str       ┆           ┆ str       ┆   ┆ f64       ┆ str       ┆           ┆          │\n",
       "╞═══════════╪═══════════╪═══════════╪═══════════╪═══╪═══════════╪═══════════╪═══════════╪══════════╡\n",
       "│ Region I  ┆ PH01      ┆ Philippin ┆ PH        ┆ … ┆ 1.043983  ┆ Ilocos    ┆ 12307.350 ┆ b\"\\x01\\x │\n",
       "│ (Ilocos   ┆           ┆ es (the)  ┆           ┆   ┆           ┆ Region    ┆ 828       ┆ 06\\x00\\x │\n",
       "│ Region)   ┆           ┆           ┆           ┆   ┆           ┆           ┆           ┆ 00\\x20\\x │\n",
       "│           ┆           ┆           ┆           ┆   ┆           ┆           ┆           ┆ e6\\x10…  │\n",
       "│ Region II ┆ PH02      ┆ Philippin ┆ PH        ┆ … ┆ 2.241812  ┆ Cagayan   ┆ 26387.729 ┆ b\"\\x01\\x │\n",
       "│ (Cagayan  ┆           ┆ es (the)  ┆           ┆   ┆           ┆ Valley    ┆ 555       ┆ 06\\x00\\x │\n",
       "│ Valley)   ┆           ┆           ┆           ┆   ┆           ┆           ┆           ┆ 00\\x20\\x │\n",
       "│           ┆           ┆           ┆           ┆   ┆           ┆           ┆           ┆ e6\\x10…  │\n",
       "│ Region    ┆ PH03      ┆ Philippin ┆ PH        ┆ … ┆ 1.793513  ┆ Central   ┆ 21304.155 ┆ b\"\\x01\\x │\n",
       "│ III       ┆           ┆ es (the)  ┆           ┆   ┆           ┆ Luzon     ┆ 519       ┆ 06\\x00\\x │\n",
       "│ (Central  ┆           ┆           ┆           ┆   ┆           ┆           ┆           ┆ 00\\x20\\x │\n",
       "│ Luzon)    ┆           ┆           ┆           ┆   ┆           ┆           ┆           ┆ e6\\x10…  │\n",
       "│ Region    ┆ PH04      ┆ Philippin ┆ PH        ┆ … ┆ 1.32672   ┆ Calabarzo ┆ 15846.630 ┆ b\"\\x01\\x │\n",
       "│ IV-A (Cal ┆           ┆ es (the)  ┆           ┆   ┆           ┆ n         ┆ 559       ┆ 06\\x00\\x │\n",
       "│ abarzon)  ┆           ┆           ┆           ┆   ┆           ┆           ┆           ┆ 00\\x20\\x │\n",
       "│           ┆           ┆           ┆           ┆   ┆           ┆           ┆           ┆ e6\\x10…  │\n",
       "│ Region V  ┆ PH05      ┆ Philippin ┆ PH        ┆ … ┆ 1.446324  ┆ Bicol     ┆ 17338.375 ┆ b\"\\x01\\x │\n",
       "│ (Bicol    ┆           ┆ es (the)  ┆           ┆   ┆           ┆ Region    ┆ 533       ┆ 06\\x00\\x │\n",
       "│ Region)   ┆           ┆           ┆           ┆   ┆           ┆           ┆           ┆ 00\\x20\\x │\n",
       "│           ┆           ┆           ┆           ┆   ┆           ┆           ┆           ┆ e6\\x10…  │\n",
       "│ …         ┆ …         ┆ …         ┆ …         ┆ … ┆ …         ┆ …         ┆ …         ┆ …        │\n",
       "│ National  ┆ PH13      ┆ Philippin ┆ PH        ┆ … ┆ 0.050207  ┆ NCR       ┆ 598.53957 ┆ b\"\\x01\\x │\n",
       "│ Capital   ┆           ┆ es (the)  ┆           ┆   ┆           ┆           ┆ 3         ┆ 03\\x00\\x │\n",
       "│ Region    ┆           ┆           ┆           ┆   ┆           ┆           ┆           ┆ 00\\x20\\x │\n",
       "│ (NCR)     ┆           ┆           ┆           ┆   ┆           ┆           ┆           ┆ e6\\x10…  │\n",
       "│ Cordiller ┆ PH14      ┆ Philippin ┆ PH        ┆ … ┆ 1.546712  ┆ CAR       ┆ 18192.644 ┆ b\"\\x01\\x │\n",
       "│ a Adminis ┆           ┆ es (the)  ┆           ┆   ┆           ┆           ┆ 052       ┆ 03\\x00\\x │\n",
       "│ trative   ┆           ┆           ┆           ┆   ┆           ┆           ┆           ┆ 00\\x20\\x │\n",
       "│ Regi…     ┆           ┆           ┆           ┆   ┆           ┆           ┆           ┆ e6\\x10…  │\n",
       "│ Region    ┆ PH16      ┆ Philippin ┆ PH        ┆ … ┆ 1.54082   ┆ Caraga    ┆ 18747.165 ┆ b\"\\x01\\x │\n",
       "│ XIII      ┆           ┆ es (the)  ┆           ┆   ┆           ┆           ┆ 762       ┆ 06\\x00\\x │\n",
       "│ (Caraga)  ┆           ┆           ┆           ┆   ┆           ┆           ┆           ┆ 00\\x20\\x │\n",
       "│           ┆           ┆           ┆           ┆   ┆           ┆           ┆           ┆ e6\\x10…  │\n",
       "│ Mimaropa  ┆ PH17      ┆ Philippin ┆ PH        ┆ … ┆ 2.220374  ┆ null      ┆ 26797.817 ┆ b\"\\x01\\x │\n",
       "│ Region    ┆           ┆ es (the)  ┆           ┆   ┆           ┆           ┆ 619       ┆ 06\\x00\\x │\n",
       "│           ┆           ┆           ┆           ┆   ┆           ┆           ┆           ┆ 00\\x20\\x │\n",
       "│           ┆           ┆           ┆           ┆   ┆           ┆           ┆           ┆ e6\\x10…  │\n",
       "│ Bangsamor ┆ PH19      ┆ Philippin ┆ PH        ┆ … ┆ 1.101757  ┆ BARMM     ┆ 13463.123 ┆ b\"\\x01\\x │\n",
       "│ o Autonom ┆           ┆ es (the)  ┆           ┆   ┆           ┆           ┆ 716       ┆ 06\\x00\\x │\n",
       "│ ous       ┆           ┆           ┆           ┆   ┆           ┆           ┆           ┆ 00\\x20\\x │\n",
       "│ Region I… ┆           ┆           ┆           ┆   ┆           ┆           ┆           ┆ e6\\x10…  │\n",
       "└───────────┴───────────┴───────────┴───────────┴───┴───────────┴───────────┴───────────┴──────────┘"
      ],
      "text/html": [
       "<div><style>\n",
       ".dataframe > thead > tr,\n",
       ".dataframe > tbody > tr {\n",
       "  text-align: right;\n",
       "  white-space: pre-wrap;\n",
       "}\n",
       "</style>\n",
       "<small>shape: (17, 12)</small><table border=\"1\" class=\"dataframe\"><thead><tr><th>ADM1_EN</th><th>ADM1_PCODE</th><th>ADM0_EN</th><th>ADM0_PCODE</th><th>date</th><th>validOn</th><th>validTo</th><th>Shape_Leng</th><th>Shape_Area</th><th>ADM1ALT1EN</th><th>AREA_SQKM</th><th>geometry</th></tr><tr><td>str</td><td>str</td><td>str</td><td>str</td><td>date</td><td>date</td><td>date</td><td>f64</td><td>f64</td><td>str</td><td>f64</td><td>binary</td></tr></thead><tbody><tr><td>&quot;Region I (Ilocos Region)&quot;</td><td>&quot;PH01&quot;</td><td>&quot;Philippines (the)&quot;</td><td>&quot;PH&quot;</td><td>2022-11-09</td><td>2023-11-06</td><td>null</td><td>14.99505</td><td>1.043983</td><td>&quot;Ilocos Region&quot;</td><td>12307.350828</td><td>b&quot;\\x01\\x06\\x00\\x00\\x20\\xe6\\x10\\x00\\x00\\x7f\\x00\\x00\\x00\\x01\\x03\\x00\\x00\\x00\\x01\\x00\\x00\\x008\\xb1\\x02\\x00\\x90\\xf7y\\x12,&gt;^@`\\xa4]\\x1ay\\x942@\\x88\\xc1\\x1b#0&gt;^@\\x80\\xbaO\\xa2f\\x942@\\x08Y&quot;…</td></tr><tr><td>&quot;Region II (Cagayan Valley)&quot;</td><td>&quot;PH02&quot;</td><td>&quot;Philippines (the)&quot;</td><td>&quot;PH&quot;</td><td>2022-11-09</td><td>2023-11-06</td><td>null</td><td>19.139048</td><td>2.241812</td><td>&quot;Cagayan Valley&quot;</td><td>26387.729555</td><td>b&quot;\\x01\\x06\\x00\\x00\\x20\\xe6\\x10\\x00\\x00Y\\x00\\x00\\x00\\x01\\x03\\x00\\x00\\x00\\x01\\x00\\x00\\x00\\x0c\\x0e\\x00\\x00\\x100%\\xc5\\xb9|^@\\xd04&#x27;\\xbd\\\\x1a5@@\\x15\\xbc]\\xb9|^@\\xd04&#x27;\\xbd\\\\x1a5@8\\xea&quot;…</td></tr><tr><td>&quot;Region III (Central Luzon)&quot;</td><td>&quot;PH03&quot;</td><td>&quot;Philippines (the)&quot;</td><td>&quot;PH&quot;</td><td>2022-11-09</td><td>2023-11-06</td><td>null</td><td>15.949563</td><td>1.793513</td><td>&quot;Central Luzon&quot;</td><td>21304.155519</td><td>b&quot;\\x01\\x06\\x00\\x00\\x20\\xe6\\x10\\x00\\x00\\x11\\x00\\x00\\x00\\x01\\x03\\x00\\x00\\x00\\x01\\x00\\x00\\x00\\xe5?\\x04\\x00h\\xcd\\xaa\\xca\\xfc\\x8e^@\\x80[5\\xb1\\xbb|0@\\xf0)\\xf6\\xc0\\xfc\\x8e^@\\x90\\x9e\\xa3t\\xba|0@\\x10b&quot;…</td></tr><tr><td>&quot;Region IV-A (Calabarzon)&quot;</td><td>&quot;PH04&quot;</td><td>&quot;Philippines (the)&quot;</td><td>&quot;PH&quot;</td><td>2022-11-09</td><td>2023-11-06</td><td>null</td><td>27.625494</td><td>1.32672</td><td>&quot;Calabarzon&quot;</td><td>15846.630559</td><td>b&quot;\\x01\\x06\\x00\\x00\\x20\\xe6\\x10\\x00\\x00r\\x00\\x00\\x00\\x01\\x03\\x00\\x00\\x00\\x01\\x00\\x00\\x00\\xe4\\xf3\\x06\\x00\\xd8\\x11\\xbd\\x15\\xb4\\x93^@\\xe0:\\x01R=4,@@\\x12w\\xdb\\xb6\\x93^@\\x20\\xa4\\x87\\xde83,@\\x88\\xe7&quot;…</td></tr><tr><td>&quot;Region V (Bicol Region)&quot;</td><td>&quot;PH05&quot;</td><td>&quot;Philippines (the)&quot;</td><td>&quot;PH&quot;</td><td>2022-11-09</td><td>2023-11-06</td><td>null</td><td>44.923243</td><td>1.446324</td><td>&quot;Bicol Region&quot;</td><td>17338.375533</td><td>b&quot;\\x01\\x06\\x00\\x00\\x20\\xe6\\x10\\x00\\x00\\x8a\\x01\\x00\\x00\\x01\\x03\\x00\\x00\\x00\\x01\\x00\\x00\\x00q\\x01\\x00\\x00\\x00D\\xad\\x15?\\xbf^@\\x80\\xad\\xbd\\x96*v&#x27;@@\\x8b\\x16T?\\xbf^@\\x20\\xa8\\x1a\\xde(v&#x27;@\\xa0\\x95&quot;…</td></tr><tr><td>&hellip;</td><td>&hellip;</td><td>&hellip;</td><td>&hellip;</td><td>&hellip;</td><td>&hellip;</td><td>&hellip;</td><td>&hellip;</td><td>&hellip;</td><td>&hellip;</td><td>&hellip;</td><td>&hellip;</td></tr><tr><td>&quot;National Capital Region (NCR)&quot;</td><td>&quot;PH13&quot;</td><td>&quot;Philippines (the)&quot;</td><td>&quot;PH&quot;</td><td>2022-11-09</td><td>2023-11-06</td><td>null</td><td>2.303584</td><td>0.050207</td><td>&quot;NCR&quot;</td><td>598.539573</td><td>b&quot;\\x01\\x03\\x00\\x00\\x20\\xe6\\x10\\x00\\x00\\x01\\x00\\x00\\x00\\xa4e\\x00\\x00\\x98\\xaf\\xacP^F^@\\xc0\\x0c\\xd9\\xd6\\xd5\\x89-@\\x20\\x14\\xc8J^F^@\\xc0\\x88\\xe7\\x07\\xd6\\x89-@\\xe8\\xc37=]F^@\\xa0\\xefc&quot;…</td></tr><tr><td>&quot;Cordillera Administrative Regi…</td><td>&quot;PH14&quot;</td><td>&quot;Philippines (the)&quot;</td><td>&quot;PH&quot;</td><td>2022-11-09</td><td>2023-11-06</td><td>null</td><td>8.027454</td><td>1.546712</td><td>&quot;CAR&quot;</td><td>18192.644052</td><td>b&quot;\\x01\\x03\\x00\\x00\\x20\\xe6\\x10\\x00\\x00\\x01\\x00\\x00\\x00\\x0d\\x10\\x00\\x00X\\xa6\\xc8\\xbc61^@\\x90RpU\\xb220@\\x08\\xecE\\xe251^@\\x90U\\xc2n\\xb320@\\xb0n\\xdd\\xb6w0^@\\x80:&quot;&quot;…</td></tr><tr><td>&quot;Region XIII (Caraga)&quot;</td><td>&quot;PH16&quot;</td><td>&quot;Philippines (the)&quot;</td><td>&quot;PH&quot;</td><td>2022-11-09</td><td>2023-11-06</td><td>null</td><td>28.166743</td><td>1.54082</td><td>&quot;Caraga&quot;</td><td>18747.165762</td><td>b&quot;\\x01\\x06\\x00\\x00\\x20\\xe6\\x10\\x00\\x00\\x1c\\x01\\x00\\x00\\x01\\x03\\x00\\x00\\x00\\x01\\x00\\x00\\x00\\x16\\x00\\x00\\x00\\xf06\\x1b\\x0a\\xe3\\x95_@\\x20\\x09\\xacw\\x13\\xc1!@\\xb8\\x87Y\\xdc\\xdd\\x95_@\\x80\\xe8\\xde\\xd7\\x09\\xc1!@\\xf8\\x99&quot;…</td></tr><tr><td>&quot;Mimaropa Region&quot;</td><td>&quot;PH17&quot;</td><td>&quot;Philippines (the)&quot;</td><td>&quot;PH&quot;</td><td>2022-11-09</td><td>2023-11-06</td><td>null</td><td>78.79533</td><td>2.220374</td><td>null</td><td>26797.817619</td><td>b&quot;\\x01\\x06\\x00\\x00\\x20\\xe6\\x10\\x00\\x00`\\x03\\x00\\x00\\x01\\x03\\x00\\x00\\x00\\x01\\x00\\x00\\x00\\x20\\x19\\x00\\x00H\\xaa\\xb8\\x09\\xe8\\x02^@\\x00\\xd1c\\x1a\\xa1\\xbb+@p\\x14Sh\\xe7\\x02^@\\x20\\xc53\\xc1\\xa0\\xbb+@\\xc8\\x10&quot;…</td></tr><tr><td>&quot;Bangsamoro Autonomous Region I…</td><td>&quot;PH19&quot;</td><td>&quot;Philippines (the)&quot;</td><td>&quot;PH&quot;</td><td>2022-11-09</td><td>2023-11-06</td><td>null</td><td>55.206536</td><td>1.101757</td><td>&quot;BARMM&quot;</td><td>13463.123716</td><td>b&quot;\\x01\\x06\\x00\\x00\\x20\\xe6\\x10\\x00\\x00\\xa9\\x03\\x00\\x00\\x01\\x03\\x00\\x00\\x00\\x03\\x00\\x00\\x00\\xba\\x81\\x01\\x00\\xc0\\xbe\\xaa\\xdbB3_@\\x80\\xff\\x9f\\x11\\x0c\\x16\\x1e@h\\xd4\\x1f\\xdb\\x1e3_@\\x80\\x17\\xbc\\xd1\\x8f\\x16\\x1e@8v&quot;…</td></tr></tbody></table></div>"
      ]
     },
     "execution_count": 32,
     "metadata": {},
     "output_type": "execute_result"
    }
   ],
   "execution_count": 32
  },
  {
   "metadata": {
    "ExecuteTime": {
     "end_time": "2025-05-17T16:25:27.202611Z",
     "start_time": "2025-05-17T16:25:25.664572Z"
    }
   },
   "cell_type": "code",
   "source": "df.st.to_wkt()",
   "id": "1e6d96b3e0f31d4e",
   "outputs": [
    {
     "data": {
      "text/plain": [
       "shape: (17, 12)\n",
       "┌───────────┬───────────┬───────────┬───────────┬───┬───────────┬───────────┬───────────┬──────────┐\n",
       "│ ADM1_EN   ┆ ADM1_PCOD ┆ ADM0_EN   ┆ ADM0_PCOD ┆ … ┆ Shape_Are ┆ ADM1ALT1E ┆ AREA_SQKM ┆ geometry │\n",
       "│ ---       ┆ E         ┆ ---       ┆ E         ┆   ┆ a         ┆ N         ┆ ---       ┆ ---      │\n",
       "│ str       ┆ ---       ┆ str       ┆ ---       ┆   ┆ ---       ┆ ---       ┆ f64       ┆ str      │\n",
       "│           ┆ str       ┆           ┆ str       ┆   ┆ f64       ┆ str       ┆           ┆          │\n",
       "╞═══════════╪═══════════╪═══════════╪═══════════╪═══╪═══════════╪═══════════╪═══════════╪══════════╡\n",
       "│ Region I  ┆ PH01      ┆ Philippin ┆ PH        ┆ … ┆ 1.043983  ┆ Ilocos    ┆ 12307.350 ┆ MULTIPOL │\n",
       "│ (Ilocos   ┆           ┆ es (the)  ┆           ┆   ┆           ┆ Region    ┆ 828       ┆ YGON ((( │\n",
       "│ Region)   ┆           ┆           ┆           ┆   ┆           ┆           ┆           ┆ 120.9714 │\n",
       "│           ┆           ┆           ┆           ┆   ┆           ┆           ┆           ┆ 4 18.5…  │\n",
       "│ Region II ┆ PH02      ┆ Philippin ┆ PH        ┆ … ┆ 2.241812  ┆ Cagayan   ┆ 26387.729 ┆ MULTIPOL │\n",
       "│ (Cagayan  ┆           ┆ es (the)  ┆           ┆   ┆           ┆ Valley    ┆ 555       ┆ YGON ((( │\n",
       "│ Valley)   ┆           ┆           ┆           ┆   ┆           ┆           ┆           ┆ 121.9488 │\n",
       "│           ┆           ┆           ┆           ┆   ┆           ┆           ┆           ┆ 39 21.…  │\n",
       "│ Region    ┆ PH03      ┆ Philippin ┆ PH        ┆ … ┆ 1.793513  ┆ Central   ┆ 21304.155 ┆ MULTIPOL │\n",
       "│ III       ┆           ┆ es (the)  ┆           ┆   ┆           ┆ Luzon     ┆ 519       ┆ YGON ((( │\n",
       "│ (Central  ┆           ┆           ┆           ┆   ┆           ┆           ┆           ┆ 122.2341 │\n",
       "│ Luzon)    ┆           ┆           ┆           ┆   ┆           ┆           ┆           ┆ 79 16.…  │\n",
       "│ Region    ┆ PH04      ┆ Philippin ┆ PH        ┆ … ┆ 1.32672   ┆ Calabarzo ┆ 15846.630 ┆ MULTIPOL │\n",
       "│ IV-A (Cal ┆           ┆ es (the)  ┆           ┆   ┆           ┆ n         ┆ 559       ┆ YGON ((( │\n",
       "│ abarzon)  ┆           ┆           ┆           ┆   ┆           ┆           ┆           ┆ 122.3078 │\n",
       "│           ┆           ┆           ┆           ┆   ┆           ┆           ┆           ┆ 67 14.…  │\n",
       "│ Region V  ┆ PH05      ┆ Philippin ┆ PH        ┆ … ┆ 1.446324  ┆ Bicol     ┆ 17338.375 ┆ MULTIPOL │\n",
       "│ (Bicol    ┆           ┆ es (the)  ┆           ┆   ┆           ┆ Region    ┆ 533       ┆ YGON ((( │\n",
       "│ Region)   ┆           ┆           ┆           ┆   ┆           ┆           ┆           ┆ 122.9882 │\n",
       "│           ┆           ┆           ┆           ┆   ┆           ┆           ┆           ┆ 25 11.…  │\n",
       "│ …         ┆ …         ┆ …         ┆ …         ┆ … ┆ …         ┆ …         ┆ …         ┆ …        │\n",
       "│ National  ┆ PH13      ┆ Philippin ┆ PH        ┆ … ┆ 0.050207  ┆ NCR       ┆ 598.53957 ┆ POLYGON  │\n",
       "│ Capital   ┆           ┆ es (the)  ┆           ┆   ┆           ┆           ┆ 3         ┆ ((121.09 │\n",
       "│ Region    ┆           ┆           ┆           ┆   ┆           ┆           ┆           ┆ 9507 14. │\n",
       "│ (NCR)     ┆           ┆           ┆           ┆   ┆           ┆           ┆           ┆ 76921,…  │\n",
       "│ Cordiller ┆ PH14      ┆ Philippin ┆ PH        ┆ … ┆ 1.546712  ┆ CAR       ┆ 18192.644 ┆ POLYGON  │\n",
       "│ a Adminis ┆           ┆ es (the)  ┆           ┆   ┆           ┆           ┆ 052       ┆ ((120.76 │\n",
       "│ trative   ┆           ┆           ┆           ┆   ┆           ┆           ┆           ┆ 8966 16. │\n",
       "│ Regi…     ┆           ┆           ┆           ┆   ┆           ┆           ┆           ┆ 198034…  │\n",
       "│ Region    ┆ PH16      ┆ Philippin ┆ PH        ┆ … ┆ 1.54082   ┆ Caraga    ┆ 18747.165 ┆ MULTIPOL │\n",
       "│ XIII      ┆           ┆ es (the)  ┆           ┆   ┆           ┆           ┆ 762       ┆ YGON ((( │\n",
       "│ (Caraga)  ┆           ┆           ┆           ┆   ┆           ┆           ┆           ┆ 126.3419 │\n",
       "│           ┆           ┆           ┆           ┆   ┆           ┆           ┆           ┆ 82 8.8…  │\n",
       "│ Mimaropa  ┆ PH17      ┆ Philippin ┆ PH        ┆ … ┆ 2.220374  ┆ null      ┆ 26797.817 ┆ MULTIPOL │\n",
       "│ Region    ┆           ┆ es (the)  ┆           ┆   ┆           ┆           ┆ 619       ┆ YGON ((( │\n",
       "│           ┆           ┆           ┆           ┆   ┆           ┆           ┆           ┆ 120.0454 │\n",
       "│           ┆           ┆           ┆           ┆   ┆           ┆           ┆           ┆ 12 13.…  │\n",
       "│ Bangsamor ┆ PH19      ┆ Philippin ┆ PH        ┆ … ┆ 1.101757  ┆ BARMM     ┆ 13463.123 ┆ MULTIPOL │\n",
       "│ o Autonom ┆           ┆ es (the)  ┆           ┆   ┆           ┆           ┆ 716       ┆ YGON ((( │\n",
       "│ ous       ┆           ┆           ┆           ┆   ┆           ┆           ┆           ┆ 124.8009 │\n",
       "│ Region I… ┆           ┆           ┆           ┆   ┆           ┆           ┆           ┆ 56 7.5…  │\n",
       "└───────────┴───────────┴───────────┴───────────┴───┴───────────┴───────────┴───────────┴──────────┘"
      ],
      "text/html": [
       "<div><style>\n",
       ".dataframe > thead > tr,\n",
       ".dataframe > tbody > tr {\n",
       "  text-align: right;\n",
       "  white-space: pre-wrap;\n",
       "}\n",
       "</style>\n",
       "<small>shape: (17, 12)</small><table border=\"1\" class=\"dataframe\"><thead><tr><th>ADM1_EN</th><th>ADM1_PCODE</th><th>ADM0_EN</th><th>ADM0_PCODE</th><th>date</th><th>validOn</th><th>validTo</th><th>Shape_Leng</th><th>Shape_Area</th><th>ADM1ALT1EN</th><th>AREA_SQKM</th><th>geometry</th></tr><tr><td>str</td><td>str</td><td>str</td><td>str</td><td>date</td><td>date</td><td>date</td><td>f64</td><td>f64</td><td>str</td><td>f64</td><td>str</td></tr></thead><tbody><tr><td>&quot;Region I (Ilocos Region)&quot;</td><td>&quot;PH01&quot;</td><td>&quot;Philippines (the)&quot;</td><td>&quot;PH&quot;</td><td>2022-11-09</td><td>2023-11-06</td><td>null</td><td>14.99505</td><td>1.043983</td><td>&quot;Ilocos Region&quot;</td><td>12307.350828</td><td>&quot;MULTIPOLYGON (((120.97144 18.5…</td></tr><tr><td>&quot;Region II (Cagayan Valley)&quot;</td><td>&quot;PH02&quot;</td><td>&quot;Philippines (the)&quot;</td><td>&quot;PH&quot;</td><td>2022-11-09</td><td>2023-11-06</td><td>null</td><td>19.139048</td><td>2.241812</td><td>&quot;Cagayan Valley&quot;</td><td>26387.729555</td><td>&quot;MULTIPOLYGON (((121.948839 21.…</td></tr><tr><td>&quot;Region III (Central Luzon)&quot;</td><td>&quot;PH03&quot;</td><td>&quot;Philippines (the)&quot;</td><td>&quot;PH&quot;</td><td>2022-11-09</td><td>2023-11-06</td><td>null</td><td>15.949563</td><td>1.793513</td><td>&quot;Central Luzon&quot;</td><td>21304.155519</td><td>&quot;MULTIPOLYGON (((122.234179 16.…</td></tr><tr><td>&quot;Region IV-A (Calabarzon)&quot;</td><td>&quot;PH04&quot;</td><td>&quot;Philippines (the)&quot;</td><td>&quot;PH&quot;</td><td>2022-11-09</td><td>2023-11-06</td><td>null</td><td>27.625494</td><td>1.32672</td><td>&quot;Calabarzon&quot;</td><td>15846.630559</td><td>&quot;MULTIPOLYGON (((122.307867 14.…</td></tr><tr><td>&quot;Region V (Bicol Region)&quot;</td><td>&quot;PH05&quot;</td><td>&quot;Philippines (the)&quot;</td><td>&quot;PH&quot;</td><td>2022-11-09</td><td>2023-11-06</td><td>null</td><td>44.923243</td><td>1.446324</td><td>&quot;Bicol Region&quot;</td><td>17338.375533</td><td>&quot;MULTIPOLYGON (((122.988225 11.…</td></tr><tr><td>&hellip;</td><td>&hellip;</td><td>&hellip;</td><td>&hellip;</td><td>&hellip;</td><td>&hellip;</td><td>&hellip;</td><td>&hellip;</td><td>&hellip;</td><td>&hellip;</td><td>&hellip;</td><td>&hellip;</td></tr><tr><td>&quot;National Capital Region (NCR)&quot;</td><td>&quot;PH13&quot;</td><td>&quot;Philippines (the)&quot;</td><td>&quot;PH&quot;</td><td>2022-11-09</td><td>2023-11-06</td><td>null</td><td>2.303584</td><td>0.050207</td><td>&quot;NCR&quot;</td><td>598.539573</td><td>&quot;POLYGON ((121.099507 14.76921,…</td></tr><tr><td>&quot;Cordillera Administrative Regi…</td><td>&quot;PH14&quot;</td><td>&quot;Philippines (the)&quot;</td><td>&quot;PH&quot;</td><td>2022-11-09</td><td>2023-11-06</td><td>null</td><td>8.027454</td><td>1.546712</td><td>&quot;CAR&quot;</td><td>18192.644052</td><td>&quot;POLYGON ((120.768966 16.198034…</td></tr><tr><td>&quot;Region XIII (Caraga)&quot;</td><td>&quot;PH16&quot;</td><td>&quot;Philippines (the)&quot;</td><td>&quot;PH&quot;</td><td>2022-11-09</td><td>2023-11-06</td><td>null</td><td>28.166743</td><td>1.54082</td><td>&quot;Caraga&quot;</td><td>18747.165762</td><td>&quot;MULTIPOLYGON (((126.341982 8.8…</td></tr><tr><td>&quot;Mimaropa Region&quot;</td><td>&quot;PH17&quot;</td><td>&quot;Philippines (the)&quot;</td><td>&quot;PH&quot;</td><td>2022-11-09</td><td>2023-11-06</td><td>null</td><td>78.79533</td><td>2.220374</td><td>null</td><td>26797.817619</td><td>&quot;MULTIPOLYGON (((120.045412 13.…</td></tr><tr><td>&quot;Bangsamoro Autonomous Region I…</td><td>&quot;PH19&quot;</td><td>&quot;Philippines (the)&quot;</td><td>&quot;PH&quot;</td><td>2022-11-09</td><td>2023-11-06</td><td>null</td><td>55.206536</td><td>1.101757</td><td>&quot;BARMM&quot;</td><td>13463.123716</td><td>&quot;MULTIPOLYGON (((124.800956 7.5…</td></tr></tbody></table></div>"
      ]
     },
     "execution_count": 36,
     "metadata": {},
     "output_type": "execute_result"
    }
   ],
   "execution_count": 36
  }
 ],
 "metadata": {
  "kernelspec": {
   "name": "python3",
   "language": "python",
   "display_name": "Python 3 (ipykernel)"
  }
 },
 "nbformat": 5,
 "nbformat_minor": 9
}
